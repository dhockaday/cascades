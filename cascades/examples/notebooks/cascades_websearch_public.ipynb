{
  "nbformat": 4,
  "nbformat_minor": 0,
  "metadata": {
    "colab": {
      "name": "cascades_websearch_public.ipynb",
      "provenance": [],
      "collapsed_sections": []
    },
    "kernelspec": {
      "name": "python3",
      "display_name": "Python 3"
    },
    "language_info": {
      "name": "python"
    },
    "accelerator": "GPU",
    "gpuClass": "standard"
  },
  "cells": [
    {
      "cell_type": "code",
      "source": [
        "!pip install openai\n",
        "!pip install cascades\n",
        "!pip install duckduckgo-search # or your preferred web query api"
      ],
      "metadata": {
        "id": "v8W_OZTm9PSw"
      },
      "execution_count": null,
      "outputs": []
    },
    {
      "cell_type": "code",
      "source": [
        "!pip install openai\n",
        "import os\n",
        "import openai\n",
        "api_key = \"\" # @param\n",
        "os.environ['OPENAI_API_KEY'] = api_key\n",
        "openai.api_key = os.getenv(os.environ['OPENAI_API_KEY'])\n",
        "os.getenv('OPENAI_API_KEY')"
      ],
      "metadata": {
        "id": "GdJJxhIR_Tfw"
      },
      "execution_count": null,
      "outputs": []
    },
    {
      "cell_type": "code",
      "source": [
        "import cascades as cc"
      ],
      "metadata": {
        "id": "CoQv1w7KxsPr"
      },
      "execution_count": 70,
      "outputs": []
    },
    {
      "cell_type": "code",
      "source": [
        "\"\"\"Sampling from OpenAI api.\"\"\"\n",
        "import bisect\n",
        "import dataclasses\n",
        "import functools\n",
        "import os\n",
        "from typing import Iterable, Optional, Text\n",
        "import uuid\n",
        "\n",
        "from cascades._src.distributions import base as dists\n",
        "import openai\n",
        "import jax\n",
        "\n",
        "openai.api_key = os.getenv('OPENAI_API_KEY')\n",
        "\n",
        "\n",
        "# TODO(ddohan): Persist cache to disk\n",
        "@functools.lru_cache()\n",
        "def cached_completion(rng=None, **kwargs):\n",
        "  del rng\n",
        "  return openai.Completion.create(**kwargs)\n",
        "\n",
        "\n",
        "@dataclasses.dataclass(eq=True, frozen=True)\n",
        "class GPT(dists.Distribution):\n",
        "  \"\"\"Sample a String from GPT.\"\"\"\n",
        "\n",
        "  prompt: Text = ''\n",
        "\n",
        "  stop: Optional[Iterable[Text]] = ('\\n',)\n",
        "\n",
        "  engine = 'davinci-codex'\n",
        "  temperature: float = 0.7\n",
        "  max_tokens: int = 128\n",
        "  top_p: float = .95\n",
        "  frequency_penalty: int = 0\n",
        "  presence_penalty: int = 0\n",
        "\n",
        "  def sample(self, rng=None, raw=False):\n",
        "    \"\"\"Sample a value from the distribution given rng key.\n",
        "\n",
        "    Args:\n",
        "      rng: Optional random key.\n",
        "      raw: If True, return OpenAI api request verbatim.\n",
        "\n",
        "    Returns:\n",
        "      a RandomSample or, if raw is True, the OpenAI response dict.\n",
        "    \"\"\"\n",
        "    if rng is None:\n",
        "      rng = uuid.uuid4().hex\n",
        "    elif isinstance(rng, jax.numpy.DeviceArray):\n",
        "      rng = jax.random.randint(rng, (), 0, 1_000_000_000)\n",
        "      rng = int(rng)\n",
        "    elif not isinstance(rng):\n",
        "      raise ValueError(f'RNG must be an integer or Jax key. Was {rng}')\n",
        "    result = cached_completion(\n",
        "        rng=rng,\n",
        "        model=self.engine,\n",
        "        prompt=self.prompt,\n",
        "        temperature=self.temperature,\n",
        "        max_tokens=self.max_tokens,\n",
        "        top_p=self.top_p,\n",
        "        frequency_penalty=self.frequency_penalty,\n",
        "        presence_penalty=self.presence_penalty,\n",
        "        logprobs=0,\n",
        "        stop=self.stop,\n",
        "        echo=False,\n",
        "    )['choices'][0]\n",
        "\n",
        "    completion = result['text']\n",
        "    logprobs = result['logprobs']\n",
        "\n",
        "    span = (0, len(completion) + 1)\n",
        "    start = 0\n",
        "    end = bisect.bisect_left(logprobs['text_offset'], span[1])\n",
        "    total_logprob = sum(result['logprobs']['token_logprobs'][start:end])\n",
        "    if raw:\n",
        "      return (total_logprob, result)\n",
        "    return dists.RandomSample(log_p=total_logprob, value=completion)\n",
        "\n",
        "  def log_prob(self, value, raw=False):\n",
        "    \"\"\"Get log prob of completion.\n",
        "\n",
        "    Args:\n",
        "      value: Completion to score.\n",
        "      raw: If True, return raw OpenAI API response.\n",
        "\n",
        "    Returns:\n",
        "      float logprob or the OpenAI response dict.\n",
        "    \"\"\"\n",
        "    text = self.prompt + value\n",
        "    span = (len(self.prompt), len(text))\n",
        "    result = cached_completion(\n",
        "        rng=0,\n",
        "        model=self.engine,\n",
        "        prompt=text,\n",
        "        temperature=self.temperature,\n",
        "        max_tokens=0,\n",
        "        echo=True,\n",
        "        top_p=self.top_p,\n",
        "        frequency_penalty=self.frequency_penalty,\n",
        "        presence_penalty=self.presence_penalty,\n",
        "        logprobs=0,\n",
        "    )['choices'][0]\n",
        "    logprobs = result['logprobs']\n",
        "    start = bisect.bisect(logprobs['text_offset'], span[0]) - 1\n",
        "    end = bisect.bisect_left(logprobs['text_offset'], span[1])\n",
        "    excerpt = text[span[0]:span[1]]\n",
        "    joined = ''.join(logprobs['tokens'][start:end])\n",
        "    assert excerpt in joined\n",
        "    total_logprob = sum(logprobs['token_logprobs'][start:end])\n",
        "    if raw:\n",
        "      return (total_logprob, result)\n",
        "    return total_logprob"
      ],
      "metadata": {
        "id": "boKNhd9HSPVU"
      },
      "execution_count": 42,
      "outputs": []
    },
    {
      "cell_type": "code",
      "source": [
        "from cascades._src.distributions import gpt\n",
        "cc.GPT = gpt.GPT\n",
        "# cc.GPT = GPT # temp hack until the api is updated"
      ],
      "metadata": {
        "id": "MHQ2R8VUxs_v"
      },
      "execution_count": 71,
      "outputs": []
    },
    {
      "cell_type": "code",
      "source": [
        "cc.GPT(prompt='Hello').sample(0)"
      ],
      "metadata": {
        "colab": {
          "base_uri": "https://localhost:8080/"
        },
        "id": "B2Ee4FbVCnGs",
        "outputId": "c0200fc9-09dd-445c-d9a6-8b69d5820ce5"
      },
      "execution_count": 72,
      "outputs": [
        {
          "output_type": "execute_result",
          "data": {
            "text/plain": [
              "RandomSample(log_p=-17.8193744, value=' world!\", 7, 0.6)', dist=None)"
            ]
          },
          "metadata": {},
          "execution_count": 72
        }
      ]
    },
    {
      "cell_type": "markdown",
      "source": [
        "# Web Search"
      ],
      "metadata": {
        "id": "p0-4sCpJE3U3"
      }
    },
    {
      "cell_type": "code",
      "source": [
        "from duckduckgo_search import ddg"
      ],
      "metadata": {
        "id": "6uLDc_uiNWx_"
      },
      "execution_count": 73,
      "outputs": []
    },
    {
      "cell_type": "code",
      "source": [
        "keywords = 'How many legs does a rabbit have?'\n",
        "results = ddg(keywords, region='wt-wt', safesearch='Moderate', time='y', max_results=28)\n",
        "print(results)"
      ],
      "metadata": {
        "colab": {
          "base_uri": "https://localhost:8080/"
        },
        "id": "krF2Cv0SNbtO",
        "outputId": "a7d9af1d-f2cc-4f6b-f484-67a3651b8424"
      },
      "execution_count": 74,
      "outputs": [
        {
          "output_type": "stream",
          "name": "stdout",
          "text": [
            "[{'title': 'How Many Legs Does A Rabbit Have - Realonomics', 'href': 'https://aeries.norushcharge.com/how-many-legs-does-a-rabbit-have/', 'body': \"Does a rabbit have 2 or 4 legs? A rabbit has four legs. The two in the front are called the forelegs and the two in the rear are called the hind legs. … Muscling in the hind legs is much more extensive than in the forelegs. A rabbit's body is broken into two sections called the forequarter and the hindquarter. How many feet does a rabbit have?\"}, {'title': 'How Many Legs Do Rabbits Have - Realonomics', 'href': 'https://aeries.norushcharge.com/how-many-legs-do-rabbits-have/', 'body': 'How Many Legs Do Rabbits Have? four legs Do rabbits have legs? The hind limbs of the rabbit are longer than the front limbs. This allows them to produce their hopping form of locomotion. Longer hind limbs are more capable of producing faster speeds. Hares which have longer legs than cottontail rabbits are able to move considerably faster.'}, {'title': \"Rabbit Anatomy - Understanding your pet's body parts\", 'href': 'https://littlefurrypets.com/rabbit-anatomy/', 'body': \"Rabbits have two types of teeth: cheek teeth and incisors. There are 22 cheek teeth, near the back of the rabbit's mouth. They have deep grooves that help bunnies break down fibrous plant materials. Rabbits use their incisors to slice their food before the tongue moves it into the mouth and the molars (part of the cheek teeth) grind it up.\"}, {'title': 'Rabbit Animal Facts | Oryctolagus cuniculus - AZ Animals', 'href': 'https://a-z-animals.com/animals/rabbit/', 'body': \"Incredible Rabbit Facts! 1. A rabbit can't vomit. 2. A rabbit can see nearly 360 degrees around him. 3. Rabbits live in underground tunnels called warrens. 4. Rabbits can jump nearly 10 feet in a long jump. 5. A rabbit's teeth grow throughout its lifetime. Rabbit Scientific Name\"}, {'title': 'Rabbits: Habits, diet & other facts | Live Science', 'href': 'https://www.livescience.com/28162-rabbits.html', 'body': 'Small rabbits, such as pygmy rabbits, can be as little as 9.3 inches (24 centimeters) in length and weigh less than a pound, according to the U.S. Fish and Wildlife Service. Larger species grow to...'}, {'title': 'All About Bunnies: 10+ Facts About Rabbits - Reference.com', 'href': 'https://www.reference.com/pets-animals/all-about-bunnies', 'body': 'Even More Facts That Are All About Bunnies. Rabbits have excellent hearing and can rotate their ears 180 degrees. That ability helps bunnies pinpoint the location of particular sounds to helps them avoid predators. The term \"rabbit ears\" for one\\'s cable antenna goes beyond the description of their appearance — their rotational range and ...'}, {'title': 'Count Number of animals in a zoo from given number of head and legs ...', 'href': 'https://www.geeksforgeeks.org/count-number-of-animals-in-a-zoo-from-given-number-of-head-and-legs/', 'body': 'Let the number of Head and Legs of Rabbits = X and that of Pigeons = Y. so, X + Y = 200 ..equation 1 (no. of the heads of a rabbit and a pigeon = total no. of heads) (As both of them has 1 head) 4X + 2Y = 540 …equation 2 (no. of the legs of the rabbit and a pigeon = total no. of legs) (Rabbit have 4 legs and pigeons have 2 legs)'}, {'title': 'Understanding Rabbit Behavior and Body Language - The Spruce Pets', 'href': 'https://www.thesprucepets.com/rabbit-behavior-4025353', 'body': 'Rabbits can deliver a very strong kick if they want to. They have powerful hind legs and if they are displeased they may kick to try to get away or indicate they want to be put down if they are being held. If your rabbit appears to kick as they hop away from you they are trying to kick up dirt to show they are upset.'}, {'title': 'Hare Animal Facts | Lepus - AZ Animals', 'href': 'https://a-z-animals.com/animals/hare/', 'body': 'They are even larger than the closely related rabbits and the pikas. Measuring about 16 to 28 inches from head to tail, they are a little larger than the typical house cat. The body is complemented with 6-inch feet and 8-inch ears. The heaviest species is the arctic hare at around 11 pounds.'}, {'title': 'What Eats Rabbits? The 9 WORST Rabbit Predators And Hunters ... - PetNPat', 'href': 'https://petnpat.com/what-eats-rabbit/', 'body': 'While rabbits are able to defend themselves to some extent (they have strong back legs that they will kick with), they will often come off second best in a catfight. Young rabbits need to be specially cared for around large cats. They are very mouse-like during their first year of life, which can be very tempting for a cat.'}, {'title': '7 Wild Rabbit Breeds (With Pictures) | Pet Keen', 'href': 'https://petkeen.com/wild-rabbit-breeds/', 'body': 'The 7 Wild Rabbit Breeds. 1. Colombian Pygmy Rabbit. These native rabbits to Washington state are almost extinct due to disease, wildfire, predation, and habitat loss over the last 160 years. There are programs in place to regenerate the Pygmy rabbit, and some have been successful, though they are still endangered.'}, {'title': 'How Fast Do Rabbits Run? Wild + Domestic Rabbit Top Speed!', 'href': 'https://www.rabbitcaretips.com/how-fast-do-rabbits-run/', 'body': \"A rabbit's hind legs are longer than its front legs. As a rule of thumb, the longer a rabbit's hind legs are, the faster it will be. Hares are a good example. Hares have larger feet than rabbits and, on average, are much faster. The Best Locomotion When it comes to animals, there are two types of locomotion.\"}, {'title': 'How to Tell if Your Bunny Is Dying - PetHelpful', 'href': 'https://pethelpful.com/rabbits/Dealing-With-a-Dying-Bunny-What-You-Need-to-Know', 'body': \"Water should always be left in front of them when they are sick, but don't try to feed it to them. A lot of movement and forced drinking are not good, and don't try to get them to sit up. Sadly, if your rabbit is experiencing two or more of the above symptoms, then it is most likely dying.\"}, {'title': 'New Zealand Rabbit Breed Information and Pictures - PetGuide', 'href': 'https://www.petguide.com/breeds/rabbit/new-zealand-rabbit/', 'body': 'From hips to loins to ribs, the New Zealand rabbit is a well-filled animal. Their head is moderately rounded, and in proportion with the rest of their body. Ears are thick, well-furred with rounded tips and carried erect. Does are bigger than bucks with a maximum weight of 10 to 12 pounds, where the male of the breed is supposed to weigh ...'}, {'title': 'Flemish Giant Rabbit Characteristics, Uses & Origin - ROYS FARM', 'href': 'https://www.roysfarm.com/flemish-giant-rabbit/', 'body': 'Their legs are strong, muscular and are of average length. They have large ears which are held in a V shape above the head. Male Flemish Giant rabbits have a broader and more imposing head than the females. The breed has smooth medium length hair with a glossy sheen and a dense undercoat. There are many color varieties of this rabbit breed.'}, {'title': 'How many limbs does a rabbit have? Explained by FAQ Blog', 'href': 'https://trex.aeroantenna.com/how-many-limbs-does-a-rabbit-have', 'body': 'Do rabbits have 3 or 4 toes? Using their powerful hind legs, rabbits move by hopping. They have 4 toes on their hind feet that are long and webbed to keep them from spreading apart as they jump. Their front paws have 5 toes each. How many can a rabbit have? Each litter can contain between one and 12 babies, with the average being five.'}, {'title': 'How to Care for a Pet Rabbit - The Spruce Pets', 'href': 'https://www.thesprucepets.com/is-a-rabbit-the-right-pet-for-you-1239320', 'body': \"When not being directly supervised, your rabbit should be kept in an enclosure that's at least 2 feet by 3 feet for one medium-size rabbit. Multiple rabbits housed together need more space. The height of the enclosure should be greater than the height of your rabbit when it fully stretches up on its hind legs.\"}, {'title': '17 Signs of Old Age in Rabbits (And How You Can Help)! - Rabbit Care Tips', 'href': 'https://www.rabbitcaretips.com/signs-of-old-age-in-rabbits/', 'body': 'Pododermatitis, more commonly referred to as sore hocks, is a condition many older rabbits tend to get on their back legs. More specifically, it affects the bottom of its feet and its hocks, which are basically like the heels of a rabbit. Sore hocks are characterized by: Hair loss on the affected foot'}, {'title': 'How Many Legs Do Spiders Have? All The Myths Busted', 'href': 'https://kidadl.com/facts/how-many-legs-do-spiders-have-all-the-myths-busted', 'body': 'They have four pairs of legs similar to other species such as scorpions, ticks, mites, and solifuges. The front pair of legs is known to have sensory function. According to research, every species of insect in the class arachnids has eight legs, except for the gladiator spider, which has six legs. There are almost 45,000 species of spiders.'}, {'title': '150+ Interesting Animal Trivia Questions For Kids, With Answers', 'href': 'https://www.momjunction.com/articles/animal-trivia-questions-for-kids-with-answers_00692681/', 'body': 'How many legs does a lobster have? Answer: Ten. 27. How many eyes does a spider have? Answer: Eight (Some have six or fewer but always an even number) 28. Which is the largest mammal? ... Answer: A rabbit. 107. Which animal has breeds named Jersey, Texas Longhorn, and Belgian Blue? Answer: Cow 108. Which bird was first domesticated by man ...'}, {'title': 'Flemish Giant Rabbit: Personality & Care Information', 'href': 'https://small-pets.lovetoknow.com/rabbits/flemish-giant-rabbit', 'body': 'Updated March 25, 2022. The Flemish Giant is also called the \"king of rabbits\" because of their large size, longevity, and personality. These giant rabbits can reach an immense size very quickly. Flemish Giants can weigh as much as 4 pounds or more by 7 or 8 weeks of age. A Flemish rabbit is a sweet, lovable companion who can be kept inside and ...'}, {'title': 'List of rabbit breeds - Wikipedia', 'href': 'https://en.wikipedia.org/wiki/List_of_rabbit_breeds', 'body': 'As of 2017, there were at least 305 breeds of domestic rabbit in 70 countries around the world. A rabbit breed is a distinct variety created through selective breeding (or occasionally natural selection) for specific characteristics, including size, fur (length, quality, or color), feed conversion ratio, climate adaptability, or temperament.Groups such as the American Rabbit Breeders ...'}, {'title': 'How Much Does a Rabbit Cost? (2022 Price Guide) | Pet Keen', 'href': 'https://petkeen.com/rabbit-cost/', 'body': 'Breeder. $50-$100. If you purchase a rabbit from a breeder, the price can vary quite a bit. Common breeds of rabbits usually cost around $50 or lower. Rare rabbit breeds may cost as much as $100. Because rabbits breed quickly, they are generally not as expensive as some other animals.'}, {'title': 'How to Cut Up a Rabbit - Serious Eats', 'href': 'https://www.seriouseats.com/how-to-cut-up-rabbit-5203166', 'body': 'Step 1: Remove the Front Legs. Vicky Wasik. Position the rabbit on its side, so that the front leg is closest to you. Lift the leg up and away from the body of the rabbit, so that you can see where the shoulder joint connects to the cage. Cut around the leg, keeping the knife edge against the cage. The leg will come off easily.'}, {'title': 'Dwarf Rabbits - A complete pet Guide to Dwarf Rabbit breeds', 'href': 'https://littlefurrypets.com/dwarf-rabbit-breeds/', 'body': \"A dwarf rabbit can live between seven and 10 years, and some as many as 13 years. Although it's not proven, it's believed that rabbit life spans are similar to those of dogs. Smaller dogs tend to live longer than larger breeds and dwarf rabbits might also outlive their larger counterparts. Domestic rabbits also live longer than rabbits in the wild.\"}, {'title': 'How Many Legs Does a Chicken Have? (Explained!)', 'href': 'https://chickenandchicksinfo.com/how-many-legs-does-chicken-have/', 'body': \"If someone has told you that a chicken has 4 legs, the only reason I can think of that they're saying that is because chickens have 4 limbs. If you count their two wings and two legs, that does of course equal 4. If you watch a chicken walking around, it's not like they walk on all fours like a cat or a dog. Chickens clearly walk on two legs.\"}, {'title': \"Wallaby - Facts, Diet, Habitat, Reproduction - Trishan's Oz\", 'href': 'https://trishansoz.com/trishansoz/animals/wallaby.html', 'body': \"A wallaby's eyes are located high on its skull and provide it with a 324° field of vision with a 25° overlap (humans have a 180° vision with 120° overlap). Its eyesight has a sensitivity comparable with that of rabbits, cattle or horses. Wallabies have large pointed ears which can swivel independently of each other through 180°.\"}, {'title': 'Chiggers: Facts, symptoms, infestation, diagnosis, and remedies | FactDr', 'href': 'https://factdr.com/health-conditions/chiggers/', 'body': 'Scientifically known as trombiculid mites, chiggers are actually young larvae members belonging to the arachnid family. They are also called as red bugs, berry bugs, harvest mites, and scrub-itch mites. These creatures are minuscule and are visible only under a magnifying glass. They have a reddish appearance and are as small as 1/50 th of an inch.'}]\n"
          ]
        }
      ]
    },
    {
      "cell_type": "code",
      "source": [
        "results[0].keys(), results[0]['body']"
      ],
      "metadata": {
        "colab": {
          "base_uri": "https://localhost:8080/"
        },
        "id": "kFNI7XqIPQwp",
        "outputId": "44a0239b-64ea-4522-dcc5-fc68e8ff6155"
      },
      "execution_count": 75,
      "outputs": [
        {
          "output_type": "execute_result",
          "data": {
            "text/plain": [
              "(dict_keys(['title', 'href', 'body']),\n",
              " \"Does a rabbit have 2 or 4 legs? A rabbit has four legs. The two in the front are called the forelegs and the two in the rear are called the hind legs. … Muscling in the hind legs is much more extensive than in the forelegs. A rabbit's body is broken into two sections called the forequarter and the hindquarter. How many feet does a rabbit have?\")"
            ]
          },
          "metadata": {},
          "execution_count": 75
        }
      ]
    },
    {
      "cell_type": "code",
      "source": [
        "import functools\n",
        "@functools.lru_cache(maxsize=1000)\n",
        "def get_passages(query, num_passages=5, output=None):\n",
        "  # output: json, csv, print\n",
        "  res = ddg(keywords=query, max_results=num_passages, output=output) \n",
        "  return res"
      ],
      "metadata": {
        "id": "f810i6HVDW9T"
      },
      "execution_count": 76,
      "outputs": []
    },
    {
      "cell_type": "code",
      "source": [
        "@cc.model\n",
        "def qa_with_search(question):\n",
        "  \"\"\"Answer question.\"\"\"\n",
        "  context = get_passages(question, num_passages=1)[0]['body']\n",
        "  yield cc.log(context, name='context')\n",
        "  prompt = f\"\"\"The answer sheet for the questions is below:\n",
        "\n",
        "Question: Which planet is the hottest in the solar system?\n",
        "Context: It has a strong greenhouse effect, similar to the one we experience on Earth. Because of this, Venus is the hottest planet in the solar system. The surface of Venus is approximately 465°C! Fourth from the Sun, after Earth, is Mars.\n",
        "Answer: Venus\n",
        "\n",
        "Question: Which country produces the most coffee in the world?\n",
        "Context: With the rise in popularity of coffee among Europeans, Brazil became the world's largest producer in the 1840s and has been ever since. Some 300,000 coffee farms are spread over the Brazilian landscape.\n",
        "Answer: Brazil\n",
        "\n",
        "Question: {question}\n",
        "Context: {context}\n",
        "Answer:\"\"\"\n",
        "  answer = yield GPT(prompt=prompt, stop='\\n', name='answer')\n",
        "  return answer.value\n",
        "\n",
        "@cc.model\n",
        "def qa(question):\n",
        "  \"\"\"Answer question.\"\"\"\n",
        "  prompt = f\"\"\"Answer the questions below given a document from the web:\n",
        "\n",
        "Question: What is often seen as the smallest unit of memory?\n",
        "Answer: kilobyte\n",
        "\n",
        "Question: Which planet is the hottest in the solar system?\n",
        "Answer: Venus\n",
        "\n",
        "Question: Which country produces the most coffee in the world?\n",
        "Answer: Brazil\n",
        "\n",
        "Question: {question}\n",
        "Answer:\"\"\"\n",
        "  answer = yield GPT(prompt=prompt, stop='\\n', name='answer')\n",
        "  return answer.value"
      ],
      "metadata": {
        "id": "B5ICCrO1PY5E"
      },
      "execution_count": 77,
      "outputs": []
    },
    {
      "cell_type": "code",
      "source": [
        "%time no_search = qa.sample('Which bones are babies born without?')\n",
        "no_search"
      ],
      "metadata": {
        "colab": {
          "base_uri": "https://localhost:8080/"
        },
        "id": "OvZs1JWTQpOg",
        "outputId": "675a3425-7b78-4b86-d46d-2a86498ad2f8"
      },
      "execution_count": 78,
      "outputs": [
        {
          "output_type": "stream",
          "name": "stdout",
          "text": [
            "CPU times: user 7.03 ms, sys: 2.23 ms, total: 9.26 ms\n",
            "Wall time: 10.4 ms\n"
          ]
        },
        {
          "output_type": "execute_result",
          "data": {
            "text/plain": [
              "Record(\n",
              "  answer: Sample(name='answer', score=0, value=' Clavicle', should_stop=False, replayed=False, metadata=None)\n",
              "  return:  Clavicle\n",
              ")"
            ]
          },
          "metadata": {},
          "execution_count": 78
        }
      ]
    },
    {
      "cell_type": "code",
      "source": [
        "%time with_search = qa_with_search.sample('Which bones are babies born without?')\n",
        "with_search"
      ],
      "metadata": {
        "colab": {
          "base_uri": "https://localhost:8080/"
        },
        "id": "8Bg83U02UM1y",
        "outputId": "07e67bfa-e468-4a79-ddd7-261ec0ef19fa"
      },
      "execution_count": 79,
      "outputs": [
        {
          "output_type": "stream",
          "name": "stdout",
          "text": [
            "CPU times: user 30 ms, sys: 6.58 ms, total: 36.6 ms\n",
            "Wall time: 2.13 s\n"
          ]
        },
        {
          "output_type": "execute_result",
          "data": {
            "text/plain": [
              "Record(\n",
              "  context: Log(name='context', score=None, value='One example of a bone that babies are born without: the kneecap (or patella). The kneecap starts out as cartilage and starts significantly hardening into bone between the ages of 2 and 6 years old. In most cases, several areas of cartilage in the knee begin to harden at the same time and eventually fuse together to form one solid bone.', should_stop=False, replayed=False, metadata=None)\n",
              "  answer: Sample(name='answer', score=0, value=' patella', should_stop=False, replayed=False, metadata=None)\n",
              "  return:  patella\n",
              ")"
            ]
          },
          "metadata": {},
          "execution_count": 79
        }
      ]
    },
    {
      "cell_type": "code",
      "source": [
        "def compare(question):\n",
        "  no_search = qa.sample(question)\n",
        "  search = qa_with_search.sample(question)\n",
        "  return no_search, search"
      ],
      "metadata": {
        "id": "Obi_tODoUpBR"
      },
      "execution_count": 80,
      "outputs": []
    },
    {
      "cell_type": "code",
      "source": [
        "compare('Which bone are babies born without')"
      ],
      "metadata": {
        "colab": {
          "base_uri": "https://localhost:8080/"
        },
        "id": "agTbog05VjJw",
        "outputId": "336adde1-8655-4dfb-ad56-977778a3f8ba"
      },
      "execution_count": 81,
      "outputs": [
        {
          "output_type": "execute_result",
          "data": {
            "text/plain": [
              "(Record(\n",
              "   answer: Sample(name='answer', score=0, value=' Stapes', should_stop=False, replayed=False, metadata=None)\n",
              "   return:  Stapes\n",
              " ), Record(\n",
              "   context: Log(name='context', score=None, value='Firstly, a newborn has several \"proto bones\" (ie cartilagneous precusors) which are not bones at all - yet. During development, many bones consist of \"several bones, joined by cartilage\" which will become one bone eventually. Take an example - the femur. This consists of at least five bones until total fusion aged perhaps 17yo.', should_stop=False, replayed=False, metadata=None)\n",
              "   answer: Sample(name='answer', score=0, value=' rib', should_stop=False, replayed=False, metadata=None)\n",
              "   return:  rib\n",
              " ))"
            ]
          },
          "metadata": {},
          "execution_count": 81
        }
      ]
    },
    {
      "cell_type": "code",
      "source": [
        "from concurrent import futures\n",
        "pool = futures.ThreadPoolExecutor(16)"
      ],
      "metadata": {
        "id": "YPEQ-wHIV3tn"
      },
      "execution_count": 82,
      "outputs": []
    },
    {
      "cell_type": "code",
      "source": [
        "Q = 'Which bone is a baby born without?'\n",
        "rs = qa_with_search.sample_parallel(pool, Q, n=16)\n",
        "rs[:3]  # Records that haven't been run yet."
      ],
      "metadata": {
        "id": "G1pV6dITV4zm"
      },
      "execution_count": null,
      "outputs": []
    },
    {
      "cell_type": "code",
      "source": [
        "# show 20 results\n",
        "rs[0].future.result(20)"
      ],
      "metadata": {
        "id": "ioywX1hZV9xZ"
      },
      "execution_count": null,
      "outputs": []
    },
    {
      "cell_type": "code",
      "source": [
        "[r.return_value for r in rs]"
      ],
      "metadata": {
        "id": "f7z-BNYzWAl7"
      },
      "execution_count": null,
      "outputs": []
    },
    {
      "cell_type": "code",
      "source": [
        "%%time\n",
        "rs = qa.sample_parallel(pool, Q, n=16)\n",
        "rs[-1].future.result(20)\n",
        "print([r.return_value for r in rs])"
      ],
      "metadata": {
        "id": "moq5BVlWWDXw"
      },
      "execution_count": null,
      "outputs": []
    }
  ]
}