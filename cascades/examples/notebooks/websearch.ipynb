{
  "cells": [
    {
      "cell_type": "code",
      "execution_count": null,
      "metadata": {
        "colab": {
          "base_uri": "https://localhost:8080/"
        },
        "executionInfo": {
          "elapsed": 11918,
          "status": "ok",
          "timestamp": 1660866448436,
          "user": {
            "displayName": "",
            "userId": ""
          },
          "user_tz": 420
        },
        "id": "v8W_OZTm9PSw",
        "outputId": "e5a65412-cf5b-45d3-b7ba-7a5ba7383a10"
      },
      "outputs": [
        {
          "name": "stdout",
          "output_type": "stream",
          "text": [
            "Looking in indexes: https://pypi.org/simple, https://us-python.pkg.dev/colab-wheels/public/simple/\n",
            "Requirement already satisfied: openai in /usr/local/lib/python3.7/dist-packages (0.20.0)\n",
            "Requirement already satisfied: requests\u003e=2.20 in /usr/local/lib/python3.7/dist-packages (from openai) (2.28.1)\n",
            "Requirement already satisfied: openpyxl\u003e=3.0.7 in /usr/local/lib/python3.7/dist-packages (from openai) (3.0.10)\n",
            "Requirement already satisfied: tqdm in /usr/local/lib/python3.7/dist-packages (from openai) (4.64.0)\n",
            "Requirement already satisfied: pandas\u003e=1.2.3 in /usr/local/lib/python3.7/dist-packages (from openai) (1.3.5)\n",
            "Requirement already satisfied: pandas-stubs\u003e=1.1.0.11 in /usr/local/lib/python3.7/dist-packages (from openai) (1.2.0.62)\n",
            "Requirement already satisfied: et-xmlfile in /usr/local/lib/python3.7/dist-packages (from openpyxl\u003e=3.0.7-\u003eopenai) (1.1.0)\n",
            "Requirement already satisfied: python-dateutil\u003e=2.7.3 in /usr/local/lib/python3.7/dist-packages (from pandas\u003e=1.2.3-\u003eopenai) (2.8.2)\n",
            "Requirement already satisfied: numpy\u003e=1.17.3 in /usr/local/lib/python3.7/dist-packages (from pandas\u003e=1.2.3-\u003eopenai) (1.21.6)\n",
            "Requirement already satisfied: pytz\u003e=2017.3 in /usr/local/lib/python3.7/dist-packages (from pandas\u003e=1.2.3-\u003eopenai) (2022.2.1)\n",
            "Requirement already satisfied: typing-extensions\u003e=3.7.4.3 in /usr/local/lib/python3.7/dist-packages (from pandas-stubs\u003e=1.1.0.11-\u003eopenai) (4.1.1)\n",
            "Requirement already satisfied: six\u003e=1.5 in /usr/local/lib/python3.7/dist-packages (from python-dateutil\u003e=2.7.3-\u003epandas\u003e=1.2.3-\u003eopenai) (1.15.0)\n",
            "Requirement already satisfied: charset-normalizer\u003c3,\u003e=2 in /usr/local/lib/python3.7/dist-packages (from requests\u003e=2.20-\u003eopenai) (2.1.0)\n",
            "Requirement already satisfied: urllib3\u003c1.27,\u003e=1.21.1 in /usr/local/lib/python3.7/dist-packages (from requests\u003e=2.20-\u003eopenai) (1.24.3)\n",
            "Requirement already satisfied: idna\u003c4,\u003e=2.5 in /usr/local/lib/python3.7/dist-packages (from requests\u003e=2.20-\u003eopenai) (2.10)\n",
            "Requirement already satisfied: certifi\u003e=2017.4.17 in /usr/local/lib/python3.7/dist-packages (from requests\u003e=2.20-\u003eopenai) (2022.6.15)\n",
            "Looking in indexes: https://pypi.org/simple, https://us-python.pkg.dev/colab-wheels/public/simple/\n",
            "Requirement already satisfied: cascades in /usr/local/lib/python3.7/dist-packages (0.3.2)\n",
            "Requirement already satisfied: immutabledict in /usr/local/lib/python3.7/dist-packages (from cascades) (2.2.1)\n",
            "Requirement already satisfied: jax[cpu] in /usr/local/lib/python3.7/dist-packages (from cascades) (0.3.14)\n",
            "Requirement already satisfied: numpyro in /usr/local/lib/python3.7/dist-packages (from cascades) (0.10.0)\n",
            "Requirement already satisfied: openai in /usr/local/lib/python3.7/dist-packages (from cascades) (0.20.0)\n",
            "Requirement already satisfied: opt-einsum in /usr/local/lib/python3.7/dist-packages (from jax[cpu]-\u003ecascades) (3.3.0)\n",
            "Requirement already satisfied: etils[epath] in /usr/local/lib/python3.7/dist-packages (from jax[cpu]-\u003ecascades) (0.7.1)\n",
            "Requirement already satisfied: typing-extensions in /usr/local/lib/python3.7/dist-packages (from jax[cpu]-\u003ecascades) (4.1.1)\n",
            "Requirement already satisfied: absl-py in /usr/local/lib/python3.7/dist-packages (from jax[cpu]-\u003ecascades) (1.2.0)\n",
            "Requirement already satisfied: scipy\u003e=1.5 in /usr/local/lib/python3.7/dist-packages (from jax[cpu]-\u003ecascades) (1.7.3)\n",
            "Requirement already satisfied: numpy\u003e=1.19 in /usr/local/lib/python3.7/dist-packages (from jax[cpu]-\u003ecascades) (1.21.6)\n",
            "Requirement already satisfied: jaxlib==0.3.14 in /usr/local/lib/python3.7/dist-packages (from jax[cpu]-\u003ecascades) (0.3.14+cuda11.cudnn805)\n",
            "Requirement already satisfied: flatbuffers\u003c3.0,\u003e=1.12 in /usr/local/lib/python3.7/dist-packages (from jaxlib==0.3.14-\u003ejax[cpu]-\u003ecascades) (2.0)\n",
            "Requirement already satisfied: importlib_resources in /usr/local/lib/python3.7/dist-packages (from etils[epath]-\u003ejax[cpu]-\u003ecascades) (5.9.0)\n",
            "Requirement already satisfied: zipp in /usr/local/lib/python3.7/dist-packages (from etils[epath]-\u003ejax[cpu]-\u003ecascades) (3.8.1)\n",
            "Requirement already satisfied: tqdm in /usr/local/lib/python3.7/dist-packages (from numpyro-\u003ecascades) (4.64.0)\n",
            "Requirement already satisfied: multipledispatch in /usr/local/lib/python3.7/dist-packages (from numpyro-\u003ecascades) (0.6.0)\n",
            "Requirement already satisfied: six in /usr/local/lib/python3.7/dist-packages (from multipledispatch-\u003enumpyro-\u003ecascades) (1.15.0)\n",
            "Requirement already satisfied: requests\u003e=2.20 in /usr/local/lib/python3.7/dist-packages (from openai-\u003ecascades) (2.28.1)\n",
            "Requirement already satisfied: pandas-stubs\u003e=1.1.0.11 in /usr/local/lib/python3.7/dist-packages (from openai-\u003ecascades) (1.2.0.62)\n",
            "Requirement already satisfied: pandas\u003e=1.2.3 in /usr/local/lib/python3.7/dist-packages (from openai-\u003ecascades) (1.3.5)\n",
            "Requirement already satisfied: openpyxl\u003e=3.0.7 in /usr/local/lib/python3.7/dist-packages (from openai-\u003ecascades) (3.0.10)\n",
            "Requirement already satisfied: et-xmlfile in /usr/local/lib/python3.7/dist-packages (from openpyxl\u003e=3.0.7-\u003eopenai-\u003ecascades) (1.1.0)\n",
            "Requirement already satisfied: python-dateutil\u003e=2.7.3 in /usr/local/lib/python3.7/dist-packages (from pandas\u003e=1.2.3-\u003eopenai-\u003ecascades) (2.8.2)\n",
            "Requirement already satisfied: pytz\u003e=2017.3 in /usr/local/lib/python3.7/dist-packages (from pandas\u003e=1.2.3-\u003eopenai-\u003ecascades) (2022.2.1)\n",
            "Requirement already satisfied: idna\u003c4,\u003e=2.5 in /usr/local/lib/python3.7/dist-packages (from requests\u003e=2.20-\u003eopenai-\u003ecascades) (2.10)\n",
            "Requirement already satisfied: charset-normalizer\u003c3,\u003e=2 in /usr/local/lib/python3.7/dist-packages (from requests\u003e=2.20-\u003eopenai-\u003ecascades) (2.1.0)\n",
            "Requirement already satisfied: urllib3\u003c1.27,\u003e=1.21.1 in /usr/local/lib/python3.7/dist-packages (from requests\u003e=2.20-\u003eopenai-\u003ecascades) (1.24.3)\n",
            "Requirement already satisfied: certifi\u003e=2017.4.17 in /usr/local/lib/python3.7/dist-packages (from requests\u003e=2.20-\u003eopenai-\u003ecascades) (2022.6.15)\n",
            "Looking in indexes: https://pypi.org/simple, https://us-python.pkg.dev/colab-wheels/public/simple/\n",
            "Requirement already satisfied: duckduckgo-search in /usr/local/lib/python3.7/dist-packages (1.8.2)\n",
            "Requirement already satisfied: click\u003e=8.1.3 in /usr/local/lib/python3.7/dist-packages (from duckduckgo-search) (8.1.3)\n",
            "Requirement already satisfied: brotli\u003e=1.0.9 in /usr/local/lib/python3.7/dist-packages (from duckduckgo-search) (1.0.9)\n",
            "Requirement already satisfied: lxml\u003e=4.7.1 in /usr/local/lib/python3.7/dist-packages (from duckduckgo-search) (4.9.1)\n",
            "Requirement already satisfied: requests\u003e=2.27.1 in /usr/local/lib/python3.7/dist-packages (from duckduckgo-search) (2.28.1)\n",
            "Requirement already satisfied: importlib-metadata in /usr/local/lib/python3.7/dist-packages (from click\u003e=8.1.3-\u003educkduckgo-search) (4.12.0)\n",
            "Requirement already satisfied: charset-normalizer\u003c3,\u003e=2 in /usr/local/lib/python3.7/dist-packages (from requests\u003e=2.27.1-\u003educkduckgo-search) (2.1.0)\n",
            "Requirement already satisfied: idna\u003c4,\u003e=2.5 in /usr/local/lib/python3.7/dist-packages (from requests\u003e=2.27.1-\u003educkduckgo-search) (2.10)\n",
            "Requirement already satisfied: urllib3\u003c1.27,\u003e=1.21.1 in /usr/local/lib/python3.7/dist-packages (from requests\u003e=2.27.1-\u003educkduckgo-search) (1.24.3)\n",
            "Requirement already satisfied: certifi\u003e=2017.4.17 in /usr/local/lib/python3.7/dist-packages (from requests\u003e=2.27.1-\u003educkduckgo-search) (2022.6.15)\n",
            "Requirement already satisfied: zipp\u003e=0.5 in /usr/local/lib/python3.7/dist-packages (from importlib-metadata-\u003eclick\u003e=8.1.3-\u003educkduckgo-search) (3.8.1)\n",
            "Requirement already satisfied: typing-extensions\u003e=3.6.4 in /usr/local/lib/python3.7/dist-packages (from importlib-metadata-\u003eclick\u003e=8.1.3-\u003educkduckgo-search) (4.1.1)\n"
          ]
        }
      ],
      "source": [
        "!pip install cascades\n",
        "!pip install duckduckgo-search  # or your preferred web query api"
      ]
    },
    {
      "cell_type": "code",
      "execution_count": null,
      "metadata": {
        "id": "GdJJxhIR_Tfw"
      },
      "outputs": [],
      "source": [
        "import os\n",
        "import openai\n",
        "api_key = None # @param\n",
        "if api_key:\n",
        "  os.environ['OPENAI_API_KEY'] = api_key"
      ]
    },
    {
      "cell_type": "code",
      "execution_count": null,
      "metadata": {
        "id": "CoQv1w7KxsPr"
      },
      "outputs": [],
      "source": [
        "import cascades as cc"
      ]
    },
    {
      "cell_type": "code",
      "execution_count": null,
      "metadata": {
        "colab": {
          "base_uri": "https://localhost:8080/"
        },
        "executionInfo": {
          "elapsed": 1016,
          "status": "ok",
          "timestamp": 1660866450631,
          "user": {
            "displayName": "",
            "userId": ""
          },
          "user_tz": 420
        },
        "id": "B2Ee4FbVCnGs",
        "outputId": "26ca97ad-c234-47ff-daee-f0820e0b62fc"
      },
      "outputs": [
        {
          "data": {
            "text/plain": [
              "RandomSample(log_p=-32.80007293, value='an important technique for deep learning, as we can directly sample from our desired distribution and use those samples as training data.', dist=None)"
            ]
          },
          "execution_count": 4,
          "metadata": {},
          "output_type": "execute_result"
        }
      ],
      "source": [
        "# Check that we can sample from GPT.\n",
        "dist = cc.GPT(prompt='Probabilistic programming is ',\n",
        "       # engine='davinci-codex', \n",
        "       temperature=0.7, \n",
        "       stop=('\\n',))\n",
        "x = dist.sample(rng=0)\n",
        "x"
      ]
    },
    {
      "cell_type": "markdown",
      "metadata": {
        "id": "p0-4sCpJE3U3"
      },
      "source": [
        "# Web Search"
      ]
    },
    {
      "cell_type": "code",
      "execution_count": null,
      "metadata": {
        "id": "6uLDc_uiNWx_"
      },
      "outputs": [],
      "source": [
        "from duckduckgo_search import ddg"
      ]
    },
    {
      "cell_type": "code",
      "execution_count": null,
      "metadata": {
        "colab": {
          "base_uri": "https://localhost:8080/"
        },
        "executionInfo": {
          "elapsed": 2045,
          "status": "ok",
          "timestamp": 1660866452929,
          "user": {
            "displayName": "",
            "userId": ""
          },
          "user_tz": 420
        },
        "id": "krF2Cv0SNbtO",
        "outputId": "0e9bf3a3-2def-45d7-b79b-7a8d7d4a6c94"
      },
      "outputs": [
        {
          "name": "stdout",
          "output_type": "stream",
          "text": [
            "[{'title': 'How Many Legs Does A Rabbit Have - Realonomics', 'href': 'https://aeries.norushcharge.com/how-many-legs-does-a-rabbit-have/', 'body': \"Does a rabbit have 2 or 4 legs? A rabbit has four legs. The two in the front are called the forelegs and the two in the rear are called the hind legs. … Muscling in the hind legs is much more extensive than in the forelegs. A rabbit's body is broken into two sections called the forequarter and the hindquarter. How many feet does a rabbit have?\"}, {'title': 'How Many Legs Do Rabbits Have - Realonomics', 'href': 'https://aeries.norushcharge.com/how-many-legs-do-rabbits-have/', 'body': 'How Many Legs Do Rabbits Have? four legs Do rabbits have legs? The hind limbs of the rabbit are longer than the front limbs. This allows them to produce their hopping form of locomotion. Longer hind limbs are more capable of producing faster speeds. Hares which have longer legs than cottontail rabbits are able to move considerably faster.'}, {'title': 'How many limbs does a rabbit have? Explained by FAQ Blog', 'href': 'https://trex.aeroantenna.com/how-many-limbs-does-a-rabbit-have', 'body': 'Do rabbits have 3 or 4 toes? Using their powerful hind legs, rabbits move by hopping. They have 4 toes on their hind feet that are long and webbed to keep them from spreading apart as they jump. Their front paws have 5 toes each. How many can a rabbit have? Each litter can contain between one and 12 babies, with the average being five.'}]\n"
          ]
        }
      ],
      "source": [
        "keywords = 'How many legs does a rabbit have?'\n",
        "results = ddg(keywords, region='wt-wt', safesearch='Moderate', time='y', max_results=3)\n",
        "print(results)"
      ]
    },
    {
      "cell_type": "code",
      "execution_count": null,
      "metadata": {
        "colab": {
          "base_uri": "https://localhost:8080/"
        },
        "executionInfo": {
          "elapsed": 251,
          "status": "ok",
          "timestamp": 1660866453178,
          "user": {
            "displayName": "",
            "userId": ""
          },
          "user_tz": 420
        },
        "id": "kFNI7XqIPQwp",
        "outputId": "82c4170a-7eb3-47f7-df1e-58c8ffd38383"
      },
      "outputs": [
        {
          "data": {
            "text/plain": [
              "(dict_keys(['title', 'href', 'body']),\n",
              " \"Does a rabbit have 2 or 4 legs? A rabbit has four legs. The two in the front are called the forelegs and the two in the rear are called the hind legs. … Muscling in the hind legs is much more extensive than in the forelegs. A rabbit's body is broken into two sections called the forequarter and the hindquarter. How many feet does a rabbit have?\")"
            ]
          },
          "execution_count": 7,
          "metadata": {},
          "output_type": "execute_result"
        }
      ],
      "source": [
        "results[0].keys(), results[0]['body']"
      ]
    },
    {
      "cell_type": "code",
      "execution_count": null,
      "metadata": {
        "id": "f810i6HVDW9T"
      },
      "outputs": [],
      "source": [
        "import functools\n",
        "\n",
        "@functools.lru_cache(maxsize=1000)\n",
        "def get_passages(query, num_passages=5, output=None):\n",
        "  # output: json, csv, print\n",
        "  res = ddg(keywords=query, max_results=num_passages, output=output) \n",
        "  return res"
      ]
    },
    {
      "cell_type": "code",
      "execution_count": null,
      "metadata": {
        "id": "B5ICCrO1PY5E"
      },
      "outputs": [],
      "source": [
        "@cc.model\n",
        "def qa_with_search(question):\n",
        "  \"\"\"Answer question.\"\"\"\n",
        "  context = get_passages(question, num_passages=1)[0]['body']\n",
        "  yield cc.log(context, name='context')\n",
        "  prompt = f\"\"\"The answer sheet for the questions is below:\n",
        "\n",
        "Question: Which planet is the hottest in the solar system?\n",
        "Context: It has a strong greenhouse effect, similar to the one we experience on Earth. Because of this, Venus is the hottest planet in the solar system. The surface of Venus is approximately 465°C! Fourth from the Sun, after Earth, is Mars.\n",
        "Answer: Venus\n",
        "\n",
        "Question: Which country produces the most coffee in the world?\n",
        "Context: With the rise in popularity of coffee among Europeans, Brazil became the world's largest producer in the 1840s and has been ever since. Some 300,000 coffee farms are spread over the Brazilian landscape.\n",
        "Answer: Brazil\n",
        "\n",
        "Question: {question}\n",
        "Context: {context}\n",
        "Answer:\"\"\"\n",
        "  answer = yield cc.GPT(prompt=prompt, stop='\\n', name='answer')\n",
        "  return answer.value\n",
        "\n",
        "@cc.model\n",
        "def qa(question):\n",
        "  \"\"\"Answer question.\"\"\"\n",
        "  prompt = f\"\"\"Answer the questions below given a document from the web:\n",
        "\n",
        "Question: What is often seen as the smallest unit of memory?\n",
        "Answer: kilobyte\n",
        "\n",
        "Question: Which planet is the hottest in the solar system?\n",
        "Answer: Venus\n",
        "\n",
        "Question: Which country produces the most coffee in the world?\n",
        "Answer: Brazil\n",
        "\n",
        "Question: {question}\n",
        "Answer:\"\"\"\n",
        "  answer = yield cc.GPT(prompt=prompt, stop='\\n', name='answer')\n",
        "  return answer.value"
      ]
    },
    {
      "cell_type": "code",
      "execution_count": null,
      "metadata": {
        "colab": {
          "base_uri": "https://localhost:8080/"
        },
        "executionInfo": {
          "elapsed": 2693,
          "status": "ok",
          "timestamp": 1660866455867,
          "user": {
            "displayName": "",
            "userId": ""
          },
          "user_tz": 420
        },
        "id": "OvZs1JWTQpOg",
        "outputId": "a8187055-d2e2-404f-bd94-7718ef6f11cf"
      },
      "outputs": [
        {
          "name": "stdout",
          "output_type": "stream",
          "text": [
            "CPU times: user 615 ms, sys: 447 ms, total: 1.06 s\n",
            "Wall time: 2.72 s\n"
          ]
        },
        {
          "data": {
            "text/plain": [
              "Record(\n",
              "  answer: Sample(name='answer', score=0, value=' middle ear bones', should_stop=False, replayed=False, metadata=None)\n",
              "  return:  middle ear bones\n",
              ")"
            ]
          },
          "execution_count": 10,
          "metadata": {},
          "output_type": "execute_result"
        }
      ],
      "source": [
        "%time no_search = qa.sample('Which bones are babies born without?')\n",
        "no_search"
      ]
    },
    {
      "cell_type": "code",
      "execution_count": null,
      "metadata": {
        "colab": {
          "base_uri": "https://localhost:8080/"
        },
        "executionInfo": {
          "elapsed": 2799,
          "status": "ok",
          "timestamp": 1660866458663,
          "user": {
            "displayName": "",
            "userId": ""
          },
          "user_tz": 420
        },
        "id": "8Bg83U02UM1y",
        "outputId": "b39a262f-e34c-4481-90a9-0ab79119588a"
      },
      "outputs": [
        {
          "name": "stdout",
          "output_type": "stream",
          "text": [
            "CPU times: user 41.1 ms, sys: 4.51 ms, total: 45.6 ms\n",
            "Wall time: 2.54 s\n"
          ]
        },
        {
          "data": {
            "text/plain": [
              "Record(\n",
              "  context: Log(name='context', score=None, value='One example of a bone that babies are born without: the kneecap (or patella). The kneecap starts out as cartilage and starts significantly hardening into bone between the ages of 2 and 6 years old. In most cases, several areas of cartilage in the knee begin to harden at the same time and eventually fuse together to form one solid bone.', should_stop=False, replayed=False, metadata=None)\n",
              "  answer: Sample(name='answer', score=0, value=' Kneecap', should_stop=False, replayed=False, metadata=None)\n",
              "  return:  Kneecap\n",
              ")"
            ]
          },
          "execution_count": 11,
          "metadata": {},
          "output_type": "execute_result"
        }
      ],
      "source": [
        "%time with_search = qa_with_search.sample('Which bones are babies born without?')\n",
        "with_search"
      ]
    },
    {
      "cell_type": "code",
      "execution_count": null,
      "metadata": {
        "id": "Obi_tODoUpBR"
      },
      "outputs": [],
      "source": [
        "def compare(question):\n",
        "  no_search = qa.sample(question)\n",
        "  search = qa_with_search.sample(question)\n",
        "  return no_search, search"
      ]
    },
    {
      "cell_type": "code",
      "execution_count": null,
      "metadata": {
        "colab": {
          "base_uri": "https://localhost:8080/"
        },
        "executionInfo": {
          "elapsed": 3982,
          "status": "ok",
          "timestamp": 1660866462639,
          "user": {
            "displayName": "",
            "userId": ""
          },
          "user_tz": 420
        },
        "id": "agTbog05VjJw",
        "outputId": "2a0deaa5-2d1b-4664-f218-72817f563348"
      },
      "outputs": [
        {
          "data": {
            "text/plain": [
              "(Record(\n",
              "   answer: Sample(name='answer', score=0, value=' Stapes', should_stop=False, replayed=False, metadata=None)\n",
              "   return:  Stapes\n",
              " ), Record(\n",
              "   context: Log(name='context', score=None, value='Firstly, a newborn has several \"proto bones\" (ie cartilagneous precusors) which are not bones at all - yet. During development, many bones consist of \"several bones, joined by cartilage\" which will become one bone eventually. Take an example - the femur. This consists of at least five bones until total fusion aged perhaps 17yo.', should_stop=False, replayed=False, metadata=None)\n",
              "   answer: Sample(name='answer', score=0, value=' rib', should_stop=False, replayed=False, metadata=None)\n",
              "   return:  rib\n",
              " ))"
            ]
          },
          "execution_count": 13,
          "metadata": {},
          "output_type": "execute_result"
        }
      ],
      "source": [
        "compare('Which bone are babies born without')"
      ]
    },
    {
      "cell_type": "code",
      "execution_count": null,
      "metadata": {
        "id": "YPEQ-wHIV3tn"
      },
      "outputs": [],
      "source": [
        "from concurrent import futures\n",
        "pool = futures.ThreadPoolExecutor(16)"
      ]
    },
    {
      "cell_type": "code",
      "execution_count": null,
      "metadata": {
        "colab": {
          "base_uri": "https://localhost:8080/"
        },
        "executionInfo": {
          "elapsed": 249,
          "status": "ok",
          "timestamp": 1660866528572,
          "user": {
            "displayName": "",
            "userId": ""
          },
          "user_tz": 420
        },
        "id": "G1pV6dITV4zm",
        "outputId": "a8309483-917c-4f27-de47-10f73bd62028"
      },
      "outputs": [
        {
          "data": {
            "text/plain": [
              "[Record(\n",
              " \n",
              " ), Record(\n",
              " \n",
              " ), Record(\n",
              " \n",
              " ), Record(\n",
              " \n",
              " )]"
            ]
          },
          "execution_count": 20,
          "metadata": {},
          "output_type": "execute_result"
        }
      ],
      "source": [
        "Q = 'Which bone is a baby born without?'\n",
        "rs = qa_with_search.sample_parallel(pool, Q, n=4)\n",
        "rs  # List of running traces."
      ]
    },
    {
      "cell_type": "code",
      "execution_count": null,
      "metadata": {
        "colab": {
          "base_uri": "https://localhost:8080/",
          "height": 35
        },
        "executionInfo": {
          "elapsed": 5,
          "status": "ok",
          "timestamp": 1660866529700,
          "user": {
            "displayName": "",
            "userId": ""
          },
          "user_tz": 420
        },
        "id": "ioywX1hZV9xZ",
        "outputId": "9c7848ee-29f9-49ca-808e-260c255cab40"
      },
      "outputs": [
        {
          "data": {
            "application/vnd.google.colaboratory.intrinsic+json": {
              "type": "string"
            },
            "text/plain": [
              "' patella'"
            ]
          },
          "execution_count": 21,
          "metadata": {},
          "output_type": "execute_result"
        }
      ],
      "source": [
        "# show 20 results\n",
        "rs[0].future.result(20)"
      ]
    },
    {
      "cell_type": "code",
      "execution_count": null,
      "metadata": {
        "colab": {
          "base_uri": "https://localhost:8080/"
        },
        "executionInfo": {
          "elapsed": 238,
          "status": "ok",
          "timestamp": 1660866531359,
          "user": {
            "displayName": "",
            "userId": ""
          },
          "user_tz": 420
        },
        "id": "f7z-BNYzWAl7",
        "outputId": "094c3a15-6812-4932-cdda-93985b9fe45a"
      },
      "outputs": [
        {
          "data": {
            "text/plain": [
              "[' patella', ' patella', ' patella', ' patella']"
            ]
          },
          "execution_count": 22,
          "metadata": {},
          "output_type": "execute_result"
        }
      ],
      "source": [
        "[r.return_value for r in rs]"
      ]
    },
    {
      "cell_type": "code",
      "execution_count": null,
      "metadata": {
        "colab": {
          "base_uri": "https://localhost:8080/"
        },
        "executionInfo": {
          "elapsed": 238,
          "status": "ok",
          "timestamp": 1660866657032,
          "user": {
            "displayName": "",
            "userId": ""
          },
          "user_tz": 420
        },
        "id": "moq5BVlWWDXw",
        "outputId": "f789bf0e-161e-40d3-e65b-98544866f0e4"
      },
      "outputs": [
        {
          "name": "stdout",
          "output_type": "stream",
          "text": [
            "[' radius', ' middle ear', ' baby tooth', ' Clavicle']\n",
            "CPU times: user 14.4 ms, sys: 849 µs, total: 15.2 ms\n",
            "Wall time: 14.6 ms\n"
          ]
        }
      ],
      "source": [
        "%%time\n",
        "rs = qa.sample_parallel(pool, Q, n=4)\n",
        "[r.future.result(20) for r in rs]\n",
        "print([r.return_value for r in rs])"
      ]
    }
  ],
  "metadata": {
    "accelerator": "GPU",
    "colab": {
      "collapsed_sections": [],
      "name": "cascades_websearch.ipynb",
      "provenance": [
        {
          "file_id": "1R_NEZhPGMKU8FXtqxgnsu7QGsZljZcW4",
          "timestamp": 1660866986245
        },
        {
          "file_id": "https://github.com/google-research/cascades/blob/main/cascades/examples/notebooks/cascades_websearch_public.ipynb",
          "timestamp": 1660866703408
        }
      ]
    },
    "gpuClass": "standard",
    "kernelspec": {
      "display_name": "Python 3",
      "name": "python3"
    },
    "language_info": {
      "name": "python"
    }
  },
  "nbformat": 4,
  "nbformat_minor": 0
}
